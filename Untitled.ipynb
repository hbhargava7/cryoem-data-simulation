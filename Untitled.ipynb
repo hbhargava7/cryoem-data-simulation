{
 "cells": [
  {
   "cell_type": "code",
   "execution_count": 9,
   "metadata": {},
   "outputs": [],
   "source": [
    "import sys\n",
    "import numpy as n\n",
    "from pyem import ageom\n",
    "\n",
    "sys.path.append('cryoem/')\n",
    "sys.path.append('cryoem/util')\n",
    "\n",
    "from cryoem import geom"
   ]
  },
  {
   "cell_type": "code",
   "execution_count": 14,
   "metadata": {},
   "outputs": [
    {
     "data": {
      "text/plain": [
       "array([1.05356122, 2.20520359, 4.76568917])"
      ]
     },
     "execution_count": 14,
     "metadata": {},
     "output_type": "execute_result"
    }
   ],
   "source": [
    "# Particle orientation starts as a 3d vector ov (gives alpha/rot, beta/tilt) and rotation along that vector (psi)\n",
    "ov = n.random.randn(3) # direction vector\n",
    "ov /= n.linalg.norm(ov)\n",
    "psi = 2*n.pi*n.random.rand()\n",
    "\n",
    "euler_angles = geom.genEA(ov)[0]\n",
    "euler_angles[2] = psi\n",
    "\n",
    "euler_angles"
   ]
  },
  {
   "cell_type": "code",
   "execution_count": 23,
   "metadata": {},
   "outputs": [
    {
     "data": {
      "text/plain": [
       "1.0"
      ]
     },
     "execution_count": 23,
     "metadata": {},
     "output_type": "execute_result"
    }
   ],
   "source": [
    "import math\n",
    "q = ageom.euler2quat(euler_angles[0],euler_angles[1],euler_angles[2])\n",
    "math.sqrt(q[0]**2 + q[1]**2 + q[2]**2 + q[3]**2)"
   ]
  },
  {
   "cell_type": "code",
   "execution_count": null,
   "metadata": {},
   "outputs": [],
   "source": []
  },
  {
   "cell_type": "code",
   "execution_count": null,
   "metadata": {},
   "outputs": [],
   "source": []
  }
 ],
 "metadata": {
  "kernelspec": {
   "display_name": "Python 3",
   "language": "python",
   "name": "python3"
  },
  "language_info": {
   "codemirror_mode": {
    "name": "ipython",
    "version": 3
   },
   "file_extension": ".py",
   "mimetype": "text/x-python",
   "name": "python",
   "nbconvert_exporter": "python",
   "pygments_lexer": "ipython3",
   "version": "3.7.4"
  }
 },
 "nbformat": 4,
 "nbformat_minor": 2
}
