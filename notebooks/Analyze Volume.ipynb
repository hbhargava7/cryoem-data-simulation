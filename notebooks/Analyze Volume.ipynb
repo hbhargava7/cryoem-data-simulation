{
 "cells": [
  {
   "cell_type": "code",
   "execution_count": 1,
   "metadata": {},
   "outputs": [],
   "source": [
    "import sys\n",
    "import os\n",
    "import time\n",
    "import argparse\n",
    "import math\n",
    "import resource\n",
    "import multiprocessing as mp\n",
    "\n",
    "import numpy as n\n",
    "import numpy.fft as fourier\n",
    "\n",
    "sys.path.append('cryoem/')\n",
    "sys.path.append('cryoem/util')\n",
    "\n",
    "from cryoem.cryoio import ctf\n",
    "from cryoem.cryoio import mrc\n",
    "from cryoem.util import format_timedelta\n",
    "from cryoem import cryoem\n",
    "from cryoem import geom\n",
    "from cryoem import cryoops\n",
    "from cryoem import density\n",
    "from cryoem import sincint\n",
    "\n",
    "import matplotlib as mpl\n",
    "import matplotlib.pyplot as plt\n",
    "from matplotlib.colors import LogNorm\n",
    "\n",
    "# matplotlib configuration\n",
    "mpl.rcParams['figure.dpi'] = 100\n",
    "plt.style.use(['dark_background'])"
   ]
  },
  {
   "cell_type": "code",
   "execution_count": 112,
   "metadata": {},
   "outputs": [],
   "source": [
    "# Read the volume data and compute fft\n",
    "vol,hdr = mrc.readMRC('test_data/6ac9_denmod_bigbox.mrc', inc_header=True)\n",
    "# vol[vol==0] = n.nan;\n",
    "# vol = vol.reshape(-1)\n",
    "# plt.hist(vol, bins=1000);\n",
    "\n",
    "# n.sort(vol)\n",
    "\n",
    "# n.count_nonzero(~n.isnan(vol))\n",
    "# vol = vol[~n.isnan(vol)]\n",
    "\n",
    "vol1 = vol\n",
    "# n.mean(vol1)\n",
    "\n",
    "# vol1 is expected to have more zeros that get removed yielding smaller n and larger mean\n",
    "# need to look at values that are zero in vol1 but nonzero in vol2 prior to thresholidng\n",
    "\n"
   ]
  },
  {
   "cell_type": "code",
   "execution_count": 113,
   "metadata": {},
   "outputs": [],
   "source": [
    "vol,hdr = mrc.readMRC('test_data/6ac9TeMet_denmod_bigbox.mrc', inc_header=True)\n",
    "# vol[vol==0] = n.nan\n",
    "# vol = vol.reshape(-1)\n",
    "\n",
    "# plt.hist(vol.reshape(-1), bins=1000);\n",
    "# n.count_nonzero(~n.isnan(vol))\n",
    "# vol = vol[~n.isnan(vol)]\n",
    "\n",
    "vol2 = vol\n",
    "# n.mean(vol2)"
   ]
  },
  {
   "cell_type": "code",
   "execution_count": 152,
   "metadata": {},
   "outputs": [],
   "source": [
    "# for i,v in enumerate(zip(vol1,vol2)):\n",
    "#     if i == 101:\n",
    "#         if v[0] != v[1]\n",
    "\n",
    "t=vol2-vol1\n",
    "\n",
    "\n",
    "# t.size"
   ]
  },
  {
   "cell_type": "code",
   "execution_count": 153,
   "metadata": {},
   "outputs": [
    {
     "data": {
      "text/plain": [
       "<matplotlib.colorbar.Colorbar at 0x137f96d50>"
      ]
     },
     "execution_count": 153,
     "metadata": {},
     "output_type": "execute_result"
    },
    {
     "data": {
      "image/png": "[encoded data removed]",
      "text/plain": [
       "<Figure size 432x288 with 2 Axes>"
      ]
     },
     "metadata": {
      "needs_background": "dark"
     },
     "output_type": "display_data"
    }
   ],
   "source": [
    "fig, ax = plt.subplots()\n",
    "im = ax.imshow(t[:,:,130])\n",
    "fig.colorbar(im, ax=ax)\n"
   ]
  },
  {
   "cell_type": "code",
   "execution_count": null,
   "metadata": {},
   "outputs": [],
   "source": []
  },
  {
   "cell_type": "code",
   "execution_count": null,
   "metadata": {},
   "outputs": [],
   "source": []
  },
  {
   "cell_type": "code",
   "execution_count": null,
   "metadata": {},
   "outputs": [],
   "source": []
  }
 ],
 "metadata": {
  "kernelspec": {
   "display_name": "Python 3",
   "language": "python",
   "name": "python3"
  },
  "language_info": {
   "codemirror_mode": {
    "name": "ipython",
    "version": 3
   },
   "file_extension": ".py",
   "mimetype": "text/x-python",
   "name": "python",
   "nbconvert_exporter": "python",
   "pygments_lexer": "ipython3",
   "version": "3.7.4"
  }
 },
 "nbformat": 4,
 "nbformat_minor": 2
}
