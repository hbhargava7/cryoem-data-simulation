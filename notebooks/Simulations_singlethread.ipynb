{
 "cells": [
  {
   "cell_type": "code",
   "execution_count": 3,
   "metadata": {},
   "outputs": [
    {
     "ename": "ModuleNotFoundError",
     "evalue": "No module named 'util'",
     "output_type": "error",
     "traceback": [
      "\u001b[0;31m---------------------------------------------------------------------------\u001b[0m",
      "\u001b[0;31mModuleNotFoundError\u001b[0m                       Traceback (most recent call last)",
      "\u001b[0;32m<ipython-input-3-57de194328ff>\u001b[0m in \u001b[0;36m<module>\u001b[0;34m\u001b[0m\n\u001b[1;32m      7\u001b[0m \u001b[0msys\u001b[0m\u001b[0;34m.\u001b[0m\u001b[0mpath\u001b[0m\u001b[0;34m.\u001b[0m\u001b[0mappend\u001b[0m\u001b[0;34m(\u001b[0m\u001b[0;34m'cryoem/util'\u001b[0m\u001b[0;34m)\u001b[0m\u001b[0;34m\u001b[0m\u001b[0;34m\u001b[0m\u001b[0m\n\u001b[1;32m      8\u001b[0m \u001b[0;34m\u001b[0m\u001b[0m\n\u001b[0;32m----> 9\u001b[0;31m \u001b[0;32mfrom\u001b[0m \u001b[0mcryoem\u001b[0m\u001b[0;34m.\u001b[0m\u001b[0mcryoio\u001b[0m \u001b[0;32mimport\u001b[0m \u001b[0mctf\u001b[0m\u001b[0;34m\u001b[0m\u001b[0;34m\u001b[0m\u001b[0m\n\u001b[0m\u001b[1;32m     10\u001b[0m \u001b[0;32mfrom\u001b[0m \u001b[0mcryoem\u001b[0m\u001b[0;34m.\u001b[0m\u001b[0mcryoio\u001b[0m \u001b[0;32mimport\u001b[0m \u001b[0mmrc\u001b[0m\u001b[0;34m\u001b[0m\u001b[0;34m\u001b[0m\u001b[0m\n\u001b[1;32m     11\u001b[0m \u001b[0;34m\u001b[0m\u001b[0m\n",
      "\u001b[0;32m~/Desktop/Tellurium Project/cryoem-data-simulation/notebooks/cryoem/cryoio/ctf.py\u001b[0m in \u001b[0;36m<module>\u001b[0;34m\u001b[0m\n\u001b[0;32m----> 1\u001b[0;31m \u001b[0;32mfrom\u001b[0m \u001b[0mutil\u001b[0m \u001b[0;32mimport\u001b[0m \u001b[0mmemoize\u001b[0m\u001b[0;34m\u001b[0m\u001b[0;34m\u001b[0m\u001b[0m\n\u001b[0m\u001b[1;32m      2\u001b[0m \u001b[0;32mimport\u001b[0m \u001b[0mgeom\u001b[0m\u001b[0;34m\u001b[0m\u001b[0;34m\u001b[0m\u001b[0m\n\u001b[1;32m      3\u001b[0m \u001b[0;32mimport\u001b[0m \u001b[0mnumpy\u001b[0m \u001b[0;32mas\u001b[0m \u001b[0mn\u001b[0m\u001b[0;34m\u001b[0m\u001b[0;34m\u001b[0m\u001b[0m\n\u001b[1;32m      4\u001b[0m \u001b[0;34m\u001b[0m\u001b[0m\n\u001b[1;32m      5\u001b[0m \u001b[0;32mdef\u001b[0m \u001b[0menvelope_function\u001b[0m\u001b[0;34m(\u001b[0m\u001b[0mfreq_radius\u001b[0m\u001b[0;34m,\u001b[0m\u001b[0mbfactor\u001b[0m\u001b[0;34m)\u001b[0m\u001b[0;34m:\u001b[0m\u001b[0;34m\u001b[0m\u001b[0;34m\u001b[0m\u001b[0m\n",
      "\u001b[0;31mModuleNotFoundError\u001b[0m: No module named 'util'"
     ]
    }
   ],
   "source": [
    "import sys\n",
    "import os\n",
    "import time\n",
    "import numpy as n\n",
    "\n",
    "sys.path.append('cryoem/')\n",
    "sys.path.append('cryoem/util')\n",
    "\n",
    "from cryoem.cryoio import ctf\n",
    "from cryoem.cryoio import mrc\n",
    "\n",
    "from cryoem.util import format_timedelta\n",
    "\n",
    "from cryoem import cryoem\n",
    "from cryoem import geom\n",
    "from cryoem import cryoops\n",
    "from cryoem import density\n",
    "from cryoem import sincint\n",
    "\n",
    "import numpy.fft as fourier\n",
    "\n",
    "import matplotlib as mpl\n",
    "import matplotlib.pyplot as plt\n",
    "from matplotlib.colors import LogNorm\n",
    "\n",
    "mpl.rcParams['figure.dpi'] = 300\n",
    "plt.style.use(['dark_background'])"
   ]
  },
  {
   "cell_type": "code",
   "execution_count": 45,
   "metadata": {},
   "outputs": [],
   "source": [
    "defocus_min = 10000\n",
    "defocus_max = 20000\n",
    "defocus_ang_min = 0\n",
    "defocus_ang_max = 360\n",
    "accel_kv = 300\n",
    "amp_contrast = 0.07\n",
    "phase_shift = 0\n",
    "scale = 1\n",
    "spherical_abberr = 2.7\n",
    "mag = 10000.0\n",
    "\n",
    "n_particles = 10\n",
    "n_gridpoints = 8\n",
    "snr = 0.05\n",
    "\n",
    "kernel = 'lanczos'\n",
    "ksize = int(6)\n",
    "rad = 0.95\n",
    "shift_sigma = 0\n",
    "bfactor = 50.0"
   ]
  },
  {
   "cell_type": "code",
   "execution_count": 74,
   "metadata": {},
   "outputs": [
    {
     "data": {
      "text/plain": [
       "20.603054"
      ]
     },
     "execution_count": 74,
     "metadata": {},
     "output_type": "execute_result"
    }
   ],
   "source": [
    "# Read the volume data and compute fft\n",
    "vol,hdr = mrc.readMRC(\"test_data/6ac9TeMet_denmod_bigbox.mrc\", inc_header=True)\n",
    "# vol,hdr = mrc.readMRC(\"test_data/6ac9TeMet_denmod.mrc\", inc_header=True)\n",
    "\n",
    "boxSize = int(vol.shape[0])\n",
    "pxSize = (hdr['xlen']/hdr['nx'])\n",
    "\n",
    "premult = cryoops.compute_premultiplier(boxSize, kernel, ksize) \n",
    "\n",
    "V = density.real_to_fspace(premult.reshape((1,1,-1)) * premult.reshape((1,-1,1)) * premult.reshape((-1,1,1)) * vol)\n",
    "\n",
    "vol_f = fourier.fftshift(fourier.fft2(vol))\n",
    "\n",
    "# plt.imshow(n.abs(vol[154,:,:]))\n",
    "# sigma_noise = vol.std()/snr\n",
    "# print('Noise sigma: ' + str(sigma_noise))\n",
    "# plt.savefig('read_vol.png')\n",
    "\n",
    "vol.max()"
   ]
  },
  {
   "cell_type": "code",
   "execution_count": 59,
   "metadata": {},
   "outputs": [
    {
     "name": "stdout",
     "output_type": "stream",
     "text": [
      "90.00 Percent Complete (9 particles done)... (Elapsed: 00:00:02s, Remaining: 00:00:00s)"
     ]
    }
   ],
   "source": [
    "particle_metadata = [{} for _ in range(n_particles)]\n",
    "particles = n.empty((n_particles, boxSize, boxSize), dtype=density.real_t)\n",
    "starfile = []\n",
    "TtoF = sincint.gentrunctofull(N=boxSize, rad=rad)\n",
    "\n",
    "ctfed = []\n",
    "noised = []\n",
    "fspace = []\n",
    "\n",
    "tic = time.time()\n",
    "for i,p in enumerate(particle_metadata):\n",
    "    ellapse_time = time.time() - tic\n",
    "    remain_time = float(n_particles - i)*ellapse_time/max(i,1)\n",
    "    print(\"\\r%.2f Percent Complete (%d particles done)... (Elapsed: %s, Remaining: %s)\" % (i/float(n_particles)*100.0,i,format_timedelta(ellapse_time),format_timedelta(remain_time)), end=\"\")\n",
    "    \n",
    "    # GENERATE PARTICLE ORIENTATION AND CTF PARAMETERS\n",
    "    # Random orientation vector and get spherical angles\n",
    "    pt = n.random.randn(3)\n",
    "    pt /= n.linalg.norm(pt)\n",
    "    psi = 2*n.pi*n.random.rand()\n",
    "    \n",
    "    # Compute Euler angles from a direction vector. Output EA is tuple with phi, theta, psi.\n",
    "    EA = geom.genEA(pt)[0]\n",
    "    EA[2] = psi\n",
    "    \n",
    "    p['phi'] = EA[0]*180.0/n.pi\n",
    "    p['theta'] = EA[1]*180.0/n.pi\n",
    "    p['psi'] = EA[2]*180.0/n.pi\n",
    "    \n",
    "    # Compute a random shift\n",
    "    shift = n.random.randn(2) * shift_sigma\n",
    "    p['shift_x'] = shift[0]\n",
    "    p['shift_y'] = shift[1]\n",
    "    \n",
    "    # Random defocus within the ranges\n",
    "    base_defocus = n.random.uniform(defocus_min, defocus_max)\n",
    "    p['defocus_a'] = base_defocus + n.random.uniform(-500,500)\n",
    "    p['defocus_b'] = base_defocus + n.random.uniform(-500,500)\n",
    "    p['astig_angle'] = n.random.uniform(defocus_ang_min, defocus_ang_max)\n",
    "    \n",
    "    # CREATE THE PROJECTIONS AND APPLY CTFS\n",
    "    # Generate rotation matrix based on the Euler Angles\n",
    "    R = geom.rotmat3D_EA(*EA)[:,0:2]\n",
    "    slop = cryoops.compute_projection_matrix([R], boxSize, kernel, ksize, rad, 'rots')\n",
    "    S = cryoops.compute_shift_phases(shift.reshape((1,2)), boxSize, rad)[0]\n",
    "    D = slop.dot(V.reshape((-1,)))\n",
    "    D *= S\n",
    "      \n",
    "    # Generate the CTF\n",
    "    C = ctf.compute_full_ctf(None, boxSize, pxSize, accel_kv, spherical_abberr, amp_contrast, p['defocus_a'], p['defocus_b'], n.radians(p['astig_angle']), 1, bfactor)\n",
    "    particles[i] = density.fspace_to_real((TtoF.dot(D)).reshape((boxSize,boxSize)))\n",
    "    fspace.append(D)\n",
    "    # Apply CTF to the projection and write to particles array\n",
    "    ctf_distorted = density.fspace_to_real((C*TtoF.dot(D)).reshape((boxSize,boxSize)))\n",
    "    ctfed.append(ctf_distorted)\n",
    "    noise_added = ctf_distorted + n.require(n.random.randn(boxSize, boxSize)*10,dtype=density.real_t)\n",
    "    noised.append(-noise_added)\n",
    "    \n",
    "    starfile_line = [str(amp_contrast), \n",
    "                     str(p['psi']), \n",
    "                     str(p['phi']), \n",
    "                     str(p['theta']),\n",
    "                     str(1),\n",
    "                     str(p['astig_angle']),                     \n",
    "                     str(p['defocus_a']),\n",
    "                     str(p['defocus_b']),\n",
    "                     str(pxSize),\n",
    "                     \"%d@/simulated_particles.mrcs\" % (i+1),\n",
    "                     str(mag),\n",
    "                     str(0),\n",
    "                     str(0),\n",
    "                     str(0),\n",
    "                     str(spherical_abberr),\n",
    "                     str(accel_kv)]\n",
    "    starfile.append(starfile_line)\n",
    "                          "
   ]
  },
  {
   "cell_type": "code",
   "execution_count": 1,
   "metadata": {},
   "outputs": [
    {
     "ename": "NameError",
     "evalue": "name 'plt' is not defined",
     "output_type": "error",
     "traceback": [
      "\u001b[0;31m---------------------------------------------------------------------------\u001b[0m",
      "\u001b[0;31mNameError\u001b[0m                                 Traceback (most recent call last)",
      "\u001b[0;32m<ipython-input-1-f7b3e2376b2b>\u001b[0m in \u001b[0;36m<module>\u001b[0;34m\u001b[0m\n\u001b[1;32m      1\u001b[0m \u001b[0;31m# Plot the first 8 images\u001b[0m\u001b[0;34m\u001b[0m\u001b[0;34m\u001b[0m\u001b[0;34m\u001b[0m\u001b[0m\n\u001b[0;32m----> 2\u001b[0;31m \u001b[0mfig\u001b[0m \u001b[0;34m=\u001b[0m \u001b[0mplt\u001b[0m\u001b[0;34m.\u001b[0m\u001b[0mfigure\u001b[0m\u001b[0;34m(\u001b[0m\u001b[0mfigsize\u001b[0m\u001b[0;34m=\u001b[0m\u001b[0;34m(\u001b[0m\u001b[0;36m12\u001b[0m\u001b[0;34m,\u001b[0m \u001b[0;36m5\u001b[0m\u001b[0;34m)\u001b[0m\u001b[0;34m)\u001b[0m\u001b[0;34m\u001b[0m\u001b[0;34m\u001b[0m\u001b[0m\n\u001b[0m\u001b[1;32m      3\u001b[0m \u001b[0mcol\u001b[0m \u001b[0;34m=\u001b[0m \u001b[0;36m4\u001b[0m\u001b[0;34m\u001b[0m\u001b[0;34m\u001b[0m\u001b[0m\n\u001b[1;32m      4\u001b[0m \u001b[0mrow\u001b[0m \u001b[0;34m=\u001b[0m \u001b[0;36m2\u001b[0m\u001b[0;34m\u001b[0m\u001b[0;34m\u001b[0m\u001b[0m\n\u001b[1;32m      5\u001b[0m \u001b[0;32mfor\u001b[0m \u001b[0mi\u001b[0m \u001b[0;32min\u001b[0m \u001b[0mrange\u001b[0m\u001b[0;34m(\u001b[0m\u001b[0;36m1\u001b[0m\u001b[0;34m,\u001b[0m \u001b[0mcol\u001b[0m\u001b[0;34m*\u001b[0m\u001b[0mrow\u001b[0m \u001b[0;34m+\u001b[0m\u001b[0;36m1\u001b[0m\u001b[0;34m)\u001b[0m\u001b[0;34m:\u001b[0m\u001b[0;34m\u001b[0m\u001b[0;34m\u001b[0m\u001b[0m\n",
      "\u001b[0;31mNameError\u001b[0m: name 'plt' is not defined"
     ]
    }
   ],
   "source": [
    "# Plot the first 8 images\n",
    "fig = plt.figure(figsize=(12, 5))\n",
    "col = 4\n",
    "row = 2\n",
    "for i in range(1, col*row +1):\n",
    "    img = particles[i]\n",
    "    fig.add_subplot(row, col, i)\n",
    "    plt.imshow(img, cmap='gray')\n",
    "plt.savefig('projections.png')\n",
    "plt.show()\n"
   ]
  },
  {
   "cell_type": "code",
   "execution_count": 60,
   "metadata": {},
   "outputs": [],
   "source": [
    "# Write the particle stack\n",
    "mrc.writeMRC('output/simulated_particles.mrcs', n.transpose(particles,(1,2,0)), pxSize)"
   ]
  },
  {
   "cell_type": "code",
   "execution_count": 61,
   "metadata": {},
   "outputs": [],
   "source": [
    "# Write the starfile\n",
    "f = open('output/simulated_particles.star', 'w')\n",
    "# Write the header\n",
    "f.write(\"\\ndata_images\\n\\nloop_\\n_rlnAmplitudeContrast #1 \\n_rlnAnglePsi #2 \\n_rlnAngleRot #3 \\n_rlnAngleTilt #4 \\n_rlnClassNumber #5 \\n_rlnDefocusAngle #6 \\n_rlnDefocusU #7 \\n_rlnDefocusV #8 \\n_rlnDetectorPixelSize #9 \\n_rlnImageName #10 \\n_rlnMagnification #11 \\n_rlnOriginX #12 \\n_rlnOriginY #13 \\n_rlnPhaseShift #14 \\n_rlnSphericalAberration #15\\n_rlnVoltage #16\\n\\n\")\n",
    "# Write the particle information\n",
    "for l in starfile:\n",
    "    f.write(' '.join(l) + '\\n')\n",
    "f.close()"
   ]
  },
  {
   "cell_type": "code",
   "execution_count": null,
   "metadata": {},
   "outputs": [],
   "source": []
  }
 ],
 "metadata": {
  "kernelspec": {
   "display_name": "Python 3",
   "language": "python",
   "name": "python3"
  },
  "language_info": {
   "codemirror_mode": {
    "name": "ipython",
    "version": 3
   },
   "file_extension": ".py",
   "mimetype": "text/x-python",
   "name": "python",
   "nbconvert_exporter": "python",
   "pygments_lexer": "ipython3",
   "version": "3.7.4"
  }
 },
 "nbformat": 4,
 "nbformat_minor": 2
}
