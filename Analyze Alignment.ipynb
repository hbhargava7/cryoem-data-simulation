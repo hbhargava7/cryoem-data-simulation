{
 "cells": [
  {
   "cell_type": "code",
   "execution_count": 67,
   "metadata": {},
   "outputs": [],
   "source": [
    "import sys\n",
    "import os\n",
    "import pandas as pd\n",
    "\n",
    "import matplotlib as mpl\n",
    "import matplotlib.pyplot as plt\n",
    "\n",
    "mpl.rcParams['figure.dpi'] = 100\n",
    "plt.style.use(['dark_background'])"
   ]
  },
  {
   "cell_type": "code",
   "execution_count": 69,
   "metadata": {},
   "outputs": [],
   "source": [
    "def read_theoretical(path):\n",
    "    # Read the theoretical starfile\n",
    "    # We only want (1-indexed): 2 (psi), 3 (phi), 4 (theta), 12 (originX), 13 (originY) \n",
    "    # BEWARE skiprows, starfile header lengths may vary\n",
    "    theoretical = pd.read_csv(path, delim_whitespace=True, header=None, skiprows=21)\n",
    "    theoretical = theoretical[theoretical.columns[[1, 2, 3, 11, 12]]]\n",
    "    theoretical.columns = [ 'psi', 'phi', 'theta', 'shiftX', 'shiftY']\n",
    "    theoretical = theoretical.astype(float)\n",
    "    return theoretical"
   ]
  },
  {
   "cell_type": "code",
   "execution_count": 70,
   "metadata": {},
   "outputs": [],
   "source": [
    "def read_experimental(path):\n",
    "    # Read the experimental parfile\n",
    "    # BEWARE dropping last two rows.\n",
    "    experimental = pd.read_csv(path, delim_whitespace=True)\n",
    "    experimental = experimental[experimental.columns[[1, 3, 2, 4, 5]]]\n",
    "    experimental.columns = [ 'psi', 'phi', 'theta', 'shiftX', 'shiftY']\n",
    "    experimental.drop(experimental.tail(2).index,inplace=True)\n",
    "    experimental = experimental.astype(float)\n",
    "    return experimental"
   ]
  },
  {
   "cell_type": "code",
   "execution_count": 71,
   "metadata": {},
   "outputs": [
    {
     "name": "stderr",
     "output_type": "stream",
     "text": [
      "/usr/local/lib/python3.7/site-packages/IPython/core/interactiveshell.py:3249: DtypeWarning: Columns (0,1,2,3,4,5,6,7) have mixed types. Specify dtype option on import or set low_memory=False.\n",
      "  if (await self.run_code(code, result,  async_=asy)):\n"
     ]
    }
   ],
   "source": [
    "temet_theoretical = read_theoretical('alignment_data/0.001_temet_simulated.star')\n",
    "wt_theoretical = read_theoretical('alignment_data/0.001_wt_simulated.star')\n",
    "\n",
    "temet_experimental = read_experimental('alignment_data/0.001_temet_output.par')\n",
    "wt_experimental = read_experimental('alignment_data/0.001_wt_output.par')"
   ]
  },
  {
   "cell_type": "code",
   "execution_count": 72,
   "metadata": {},
   "outputs": [],
   "source": [
    "temet_errors = temet_theoretical.sub(temet_experimental)\n",
    "wt_errors = wt_theoretical.sub(wt_experimental)"
   ]
  },
  {
   "cell_type": "code",
   "execution_count": 108,
   "metadata": {},
   "outputs": [
    {
     "data": {
      "text/plain": [
       "<matplotlib.legend.Legend at 0x1368fe710>"
      ]
     },
     "execution_count": 108,
     "metadata": {},
     "output_type": "execute_result"
    },
    {
     "data": {
      "image/png": "[encoded data removed]",
      "text/plain": [
       "<Figure size 600x400 with 1 Axes>"
      ]
     },
     "metadata": {},
     "output_type": "display_data"
    }
   ],
   "source": [
    "# fig = plt.figure(figsize=(12, 5))\n",
    "# errors.phi.hist(bins=360\n",
    "fig = plt.figure()\n",
    "ax = fig.add_subplot(111)\n",
    "\n",
    "ax.hist((wt_errors.theta % 360), bins=360, alpha=0.5, label='wt errors');\n",
    "ax.hist((temet_errors.theta % 360), bins=360, alpha=0.5, label='temet errors');\n",
    "plt.legend(loc='upper right')"
   ]
  },
  {
   "cell_type": "code",
   "execution_count": 120,
   "metadata": {},
   "outputs": [
    {
     "data": {
      "text/plain": [
       "28920"
      ]
     },
     "execution_count": 120,
     "metadata": {},
     "output_type": "execute_result"
    }
   ],
   "source": [
    "sum(abs(temet_errors.psi) > 50)\n",
    "# sum(abs(wt_errors.psi) > 50)"
   ]
  },
  {
   "cell_type": "code",
   "execution_count": 99,
   "metadata": {},
   "outputs": [
    {
     "data": {
      "text/plain": [
       "-0.015910599999999997"
      ]
     },
     "execution_count": 99,
     "metadata": {},
     "output_type": "execute_result"
    }
   ],
   "source": [
    "sum(wt_errors.shiftY)/len(wt_errors.shiftY)"
   ]
  },
  {
   "cell_type": "code",
   "execution_count": null,
   "metadata": {},
   "outputs": [],
   "source": []
  }
 ],
 "metadata": {
  "kernelspec": {
   "display_name": "Python 3",
   "language": "python",
   "name": "python3"
  },
  "language_info": {
   "codemirror_mode": {
    "name": "ipython",
    "version": 3
   },
   "file_extension": ".py",
   "mimetype": "text/x-python",
   "name": "python",
   "nbconvert_exporter": "python",
   "pygments_lexer": "ipython3",
   "version": "3.7.4"
  }
 },
 "nbformat": 4,
 "nbformat_minor": 2
}
